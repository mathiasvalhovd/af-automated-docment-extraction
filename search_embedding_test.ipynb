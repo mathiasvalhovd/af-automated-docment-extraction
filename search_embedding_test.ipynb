{
 "cells": [
  {
   "cell_type": "code",
   "execution_count": 35,
   "metadata": {},
   "outputs": [],
   "source": [
    "import os\n",
    "import numpy as np\n",
    "import pandas as pd\n",
    "from openai import OpenAI\n",
    "client = OpenAI(api_key=os.environ.get(\"OPENAI_API_KEY\", \"<your OpenAI API key if not set as env var>\"))"
   ]
  },
  {
   "cell_type": "code",
   "execution_count": 36,
   "metadata": {},
   "outputs": [],
   "source": [
    "def get_embedding(text, model=\"text-embedding-3-small\"):\n",
    "   # Generates embedding for a text\n",
    "   text = text.replace(\"\\n\", \" \")\n",
    "   return client.embeddings.create(input = [text], model=model).data[0].embedding\n",
    "\n",
    "def cosine_similarity(a, b):\n",
    "    return np.dot(a, b) / (np.linalg.norm(a) * np.linalg.norm(b))\n",
    " \n",
    "def get_embeddings(\n",
    "    list_of_text: list[str], model=\"text-embedding-3-small\", **kwargs) -> list[list[float]]:\n",
    "    assert len(list_of_text) <= 2048, \"The batch size should not be larger than 2048.\"\n",
    "\n",
    "    # replace newlines, which can negatively affect performance.\n",
    "    list_of_text = [text.replace(\"\\n\", \" \") for text in list_of_text]\n",
    "\n",
    "    data = client.embeddings.create(input=list_of_text, model=model, **kwargs).data\n",
    "    return [d.embedding for d in data]"
   ]
  },
  {
   "cell_type": "code",
   "execution_count": 37,
   "metadata": {},
   "outputs": [],
   "source": [
    "#df = pd.read_csv(\"words.csv\")\n",
    "#df"
   ]
  },
  {
   "cell_type": "code",
   "execution_count": 38,
   "metadata": {},
   "outputs": [],
   "source": [
    "# Returns embeddings for the words in 'words.csv' and stores them in 'embedding'. Saves this as a new csv file\n",
    "#df['embedding'] = df['text'].apply(get_embedding)\n",
    "#df.to_scv('word_embeddings.csv')"
   ]
  },
  {
   "cell_type": "code",
   "execution_count": 39,
   "metadata": {},
   "outputs": [],
   "source": [
    "#df = pd.read_csv('word_embeddings.csv')\n",
    "#df['embedding'] = df['embedding'].apply(eval).apply(np.array)\n",
    "#df"
   ]
  },
  {
   "cell_type": "code",
   "execution_count": 40,
   "metadata": {},
   "outputs": [
    {
     "data": {
      "text/html": [
       "<div>\n",
       "<style scoped>\n",
       "    .dataframe tbody tr th:only-of-type {\n",
       "        vertical-align: middle;\n",
       "    }\n",
       "\n",
       "    .dataframe tbody tr th {\n",
       "        vertical-align: top;\n",
       "    }\n",
       "\n",
       "    .dataframe thead th {\n",
       "        text-align: right;\n",
       "    }\n",
       "</style>\n",
       "<table border=\"1\" class=\"dataframe\">\n",
       "  <thead>\n",
       "    <tr style=\"text-align: right;\">\n",
       "      <th></th>\n",
       "      <th>text</th>\n",
       "    </tr>\n",
       "  </thead>\n",
       "  <tbody>\n",
       "    <tr>\n",
       "      <th>0</th>\n",
       "      <td>Good afternoon</td>\n",
       "    </tr>\n",
       "    <tr>\n",
       "      <th>1</th>\n",
       "      <td>My colleagues and I are strongly committed to ...</td>\n",
       "    </tr>\n",
       "    <tr>\n",
       "      <th>2</th>\n",
       "      <td>We have both the tools that we need and the re...</td>\n",
       "    </tr>\n",
       "    <tr>\n",
       "      <th>3</th>\n",
       "      <td>Price stability is the responsibility of the F...</td>\n",
       "    </tr>\n",
       "    <tr>\n",
       "      <th>4</th>\n",
       "      <td>Without price stability, the economy does not ...</td>\n",
       "    </tr>\n",
       "  </tbody>\n",
       "</table>\n",
       "</div>"
      ],
      "text/plain": [
       "                                                text\n",
       "0                                     Good afternoon\n",
       "1  My colleagues and I are strongly committed to ...\n",
       "2  We have both the tools that we need and the re...\n",
       "3  Price stability is the responsibility of the F...\n",
       "4  Without price stability, the economy does not ..."
      ]
     },
     "execution_count": 40,
     "metadata": {},
     "output_type": "execute_result"
    }
   ],
   "source": [
    "# Load wanted data. Here is a speech\n",
    "df = pd.read_csv(\"fed-speech.csv\")\n",
    "df.head()"
   ]
  },
  {
   "cell_type": "code",
   "execution_count": 41,
   "metadata": {},
   "outputs": [],
   "source": [
    "# Get the embeddings of the speech. Save to csv to reduce embedding function calls\n",
    "#df['embeddings'] = df['text'].apply(get_embedding)\n",
    "#df.to_csv('fed-speech-embeddings')"
   ]
  },
  {
   "cell_type": "code",
   "execution_count": 84,
   "metadata": {},
   "outputs": [
    {
     "data": {
      "text/html": [
       "<div>\n",
       "<style scoped>\n",
       "    .dataframe tbody tr th:only-of-type {\n",
       "        vertical-align: middle;\n",
       "    }\n",
       "\n",
       "    .dataframe tbody tr th {\n",
       "        vertical-align: top;\n",
       "    }\n",
       "\n",
       "    .dataframe thead th {\n",
       "        text-align: right;\n",
       "    }\n",
       "</style>\n",
       "<table border=\"1\" class=\"dataframe\">\n",
       "  <thead>\n",
       "    <tr style=\"text-align: right;\">\n",
       "      <th></th>\n",
       "      <th>Unnamed: 0</th>\n",
       "      <th>text</th>\n",
       "      <th>embeddings</th>\n",
       "    </tr>\n",
       "  </thead>\n",
       "  <tbody>\n",
       "    <tr>\n",
       "      <th>0</th>\n",
       "      <td>0</td>\n",
       "      <td>Good afternoon</td>\n",
       "      <td>[0.03404167294502258, -0.030998127534985542, -...</td>\n",
       "    </tr>\n",
       "    <tr>\n",
       "      <th>1</th>\n",
       "      <td>1</td>\n",
       "      <td>My colleagues and I are strongly committed to ...</td>\n",
       "      <td>[0.011237340047955513, 0.014179651625454426, 0...</td>\n",
       "    </tr>\n",
       "    <tr>\n",
       "      <th>2</th>\n",
       "      <td>2</td>\n",
       "      <td>We have both the tools that we need and the re...</td>\n",
       "      <td>[0.010302674025297165, 0.01715744100511074, 0....</td>\n",
       "    </tr>\n",
       "    <tr>\n",
       "      <th>3</th>\n",
       "      <td>3</td>\n",
       "      <td>Price stability is the responsibility of the F...</td>\n",
       "      <td>[-0.013447479344904423, -0.006005288101732731,...</td>\n",
       "    </tr>\n",
       "    <tr>\n",
       "      <th>4</th>\n",
       "      <td>4</td>\n",
       "      <td>Without price stability, the economy does not ...</td>\n",
       "      <td>[-0.01848752796649933, 0.005304287187755108, 0...</td>\n",
       "    </tr>\n",
       "  </tbody>\n",
       "</table>\n",
       "</div>"
      ],
      "text/plain": [
       "   Unnamed: 0                                               text  \\\n",
       "0           0                                     Good afternoon   \n",
       "1           1  My colleagues and I are strongly committed to ...   \n",
       "2           2  We have both the tools that we need and the re...   \n",
       "3           3  Price stability is the responsibility of the F...   \n",
       "4           4  Without price stability, the economy does not ...   \n",
       "\n",
       "                                          embeddings  \n",
       "0  [0.03404167294502258, -0.030998127534985542, -...  \n",
       "1  [0.011237340047955513, 0.014179651625454426, 0...  \n",
       "2  [0.010302674025297165, 0.01715744100511074, 0....  \n",
       "3  [-0.013447479344904423, -0.006005288101732731,...  \n",
       "4  [-0.01848752796649933, 0.005304287187755108, 0...  "
      ]
     },
     "execution_count": 84,
     "metadata": {},
     "output_type": "execute_result"
    }
   ],
   "source": [
    "# Load the csv file\n",
    "df = pd.read_csv('fed-speech-embeddings')\n",
    "df['embeddings'] = df['embeddings'].apply(eval).apply(np.array) # What does this do??\n",
    "df.head()"
   ]
  },
  {
   "cell_type": "code",
   "execution_count": 85,
   "metadata": {},
   "outputs": [],
   "source": [
    "# Search for something in the speech and create an embedding of the search sentence\n",
    "search_sentence = \"fomc pce august\"\n",
    "search_embedded = get_embedding(search_sentence)"
   ]
  },
  {
   "cell_type": "code",
   "execution_count": 86,
   "metadata": {},
   "outputs": [
    {
     "data": {
      "text/html": [
       "<div>\n",
       "<style scoped>\n",
       "    .dataframe tbody tr th:only-of-type {\n",
       "        vertical-align: middle;\n",
       "    }\n",
       "\n",
       "    .dataframe tbody tr th {\n",
       "        vertical-align: top;\n",
       "    }\n",
       "\n",
       "    .dataframe thead th {\n",
       "        text-align: right;\n",
       "    }\n",
       "</style>\n",
       "<table border=\"1\" class=\"dataframe\">\n",
       "  <thead>\n",
       "    <tr style=\"text-align: right;\">\n",
       "      <th></th>\n",
       "      <th>Unnamed: 0</th>\n",
       "      <th>text</th>\n",
       "      <th>embeddings</th>\n",
       "      <th>similarities</th>\n",
       "    </tr>\n",
       "  </thead>\n",
       "  <tbody>\n",
       "    <tr>\n",
       "      <th>0</th>\n",
       "      <td>0</td>\n",
       "      <td>Good afternoon</td>\n",
       "      <td>[0.03404167294502258, -0.030998127534985542, -...</td>\n",
       "      <td>0.211628</td>\n",
       "    </tr>\n",
       "    <tr>\n",
       "      <th>1</th>\n",
       "      <td>1</td>\n",
       "      <td>My colleagues and I are strongly committed to ...</td>\n",
       "      <td>[0.011237340047955513, 0.014179651625454426, 0...</td>\n",
       "      <td>0.392007</td>\n",
       "    </tr>\n",
       "    <tr>\n",
       "      <th>2</th>\n",
       "      <td>2</td>\n",
       "      <td>We have both the tools that we need and the re...</td>\n",
       "      <td>[0.010302674025297165, 0.01715744100511074, 0....</td>\n",
       "      <td>0.298283</td>\n",
       "    </tr>\n",
       "    <tr>\n",
       "      <th>3</th>\n",
       "      <td>3</td>\n",
       "      <td>Price stability is the responsibility of the F...</td>\n",
       "      <td>[-0.013447479344904423, -0.006005288101732731,...</td>\n",
       "      <td>0.347545</td>\n",
       "    </tr>\n",
       "    <tr>\n",
       "      <th>4</th>\n",
       "      <td>4</td>\n",
       "      <td>Without price stability, the economy does not ...</td>\n",
       "      <td>[-0.01848752796649933, 0.005304287187755108, 0...</td>\n",
       "      <td>0.255388</td>\n",
       "    </tr>\n",
       "  </tbody>\n",
       "</table>\n",
       "</div>"
      ],
      "text/plain": [
       "   Unnamed: 0                                               text  \\\n",
       "0           0                                     Good afternoon   \n",
       "1           1  My colleagues and I are strongly committed to ...   \n",
       "2           2  We have both the tools that we need and the re...   \n",
       "3           3  Price stability is the responsibility of the F...   \n",
       "4           4  Without price stability, the economy does not ...   \n",
       "\n",
       "                                          embeddings  similarities  \n",
       "0  [0.03404167294502258, -0.030998127534985542, -...      0.211628  \n",
       "1  [0.011237340047955513, 0.014179651625454426, 0...      0.392007  \n",
       "2  [0.010302674025297165, 0.01715744100511074, 0....      0.298283  \n",
       "3  [-0.013447479344904423, -0.006005288101732731,...      0.347545  \n",
       "4  [-0.01848752796649933, 0.005304287187755108, 0...      0.255388  "
      ]
     },
     "execution_count": 86,
     "metadata": {},
     "output_type": "execute_result"
    }
   ],
   "source": [
    "# Compute similarities between the speech and the search\n",
    "df['similarities'] = df['embeddings'].apply(lambda x : cosine_similarity(x,search_embedded))\n",
    "df.head()"
   ]
  },
  {
   "cell_type": "code",
   "execution_count": 87,
   "metadata": {},
   "outputs": [
    {
     "data": {
      "text/html": [
       "<div>\n",
       "<style scoped>\n",
       "    .dataframe tbody tr th:only-of-type {\n",
       "        vertical-align: middle;\n",
       "    }\n",
       "\n",
       "    .dataframe tbody tr th {\n",
       "        vertical-align: top;\n",
       "    }\n",
       "\n",
       "    .dataframe thead th {\n",
       "        text-align: right;\n",
       "    }\n",
       "</style>\n",
       "<table border=\"1\" class=\"dataframe\">\n",
       "  <thead>\n",
       "    <tr style=\"text-align: right;\">\n",
       "      <th></th>\n",
       "      <th>Unnamed: 0</th>\n",
       "      <th>text</th>\n",
       "      <th>embeddings</th>\n",
       "      <th>similarities</th>\n",
       "    </tr>\n",
       "  </thead>\n",
       "  <tbody>\n",
       "    <tr>\n",
       "      <th>0</th>\n",
       "      <td>23</td>\n",
       "      <td>Over the 12 months ending in September, total ...</td>\n",
       "      <td>[-0.028180072084069252, 0.04317083954811096, 0...</td>\n",
       "      <td>0.572014</td>\n",
       "    </tr>\n",
       "    <tr>\n",
       "      <th>1</th>\n",
       "      <td>6</td>\n",
       "      <td>Today, the FOMC raised our policy interest rat...</td>\n",
       "      <td>[-0.005314371082931757, -0.00754205510020256, ...</td>\n",
       "      <td>0.491557</td>\n",
       "    </tr>\n",
       "    <tr>\n",
       "      <th>2</th>\n",
       "      <td>24</td>\n",
       "      <td>The recent inflation data again have come in h...</td>\n",
       "      <td>[0.016138914972543716, -0.0019731884822249413,...</td>\n",
       "      <td>0.463067</td>\n",
       "    </tr>\n",
       "    <tr>\n",
       "      <th>3</th>\n",
       "      <td>52</td>\n",
       "      <td>We at the Fed will do everything we can to ach...</td>\n",
       "      <td>[-0.0073754191398620605, -0.006112131755799055...</td>\n",
       "      <td>0.457727</td>\n",
       "    </tr>\n",
       "    <tr>\n",
       "      <th>4</th>\n",
       "      <td>13</td>\n",
       "      <td>Recent indicators point to modest growth of sp...</td>\n",
       "      <td>[0.04072889685630798, 0.04065309837460518, 0.0...</td>\n",
       "      <td>0.454602</td>\n",
       "    </tr>\n",
       "  </tbody>\n",
       "</table>\n",
       "</div>"
      ],
      "text/plain": [
       "   Unnamed: 0                                               text  \\\n",
       "0          23  Over the 12 months ending in September, total ...   \n",
       "1           6  Today, the FOMC raised our policy interest rat...   \n",
       "2          24  The recent inflation data again have come in h...   \n",
       "3          52  We at the Fed will do everything we can to ach...   \n",
       "4          13  Recent indicators point to modest growth of sp...   \n",
       "\n",
       "                                          embeddings  similarities  \n",
       "0  [-0.028180072084069252, 0.04317083954811096, 0...      0.572014  \n",
       "1  [-0.005314371082931757, -0.00754205510020256, ...      0.491557  \n",
       "2  [0.016138914972543716, -0.0019731884822249413,...      0.463067  \n",
       "3  [-0.0073754191398620605, -0.006112131755799055...      0.457727  \n",
       "4  [0.04072889685630798, 0.04065309837460518, 0.0...      0.454602  "
      ]
     },
     "execution_count": 87,
     "metadata": {},
     "output_type": "execute_result"
    }
   ],
   "source": [
    "# Sort by most similar\n",
    "df = df.sort_values(\"similarities\", ascending=False)\n",
    "df = df.reset_index(drop=True)\n",
    "df.head()"
   ]
  },
  {
   "cell_type": "code",
   "execution_count": 88,
   "metadata": {},
   "outputs": [
    {
     "name": "stdout",
     "output_type": "stream",
     "text": [
      "Suggestion 0: Over the 12 months ending in September, total PCE prices rose at 6.2%, excluding the volatile food and energy categories, core PCE prices rose at 5.1%\n",
      "\n",
      "\n",
      "Suggestion 1: Today, the FOMC raised our policy interest rate by 75 basis points and we continue to anticipate that ongoing increases will be appropriate\n",
      "\n",
      "\n",
      "Suggestion 2: The recent inflation data again have come in higher than expected\n",
      "\n",
      "\n"
     ]
    }
   ],
   "source": [
    "# Print top three results\n",
    "for i in [0,1,2]:\n",
    "    text = df['text'][i]\n",
    "    print(f'Suggestion {i}: {text}')\n",
    "    print('\\n')"
   ]
  },
  {
   "cell_type": "code",
   "execution_count": null,
   "metadata": {},
   "outputs": [],
   "source": []
  }
 ],
 "metadata": {
  "kernelspec": {
   "display_name": "base",
   "language": "python",
   "name": "python3"
  },
  "language_info": {
   "codemirror_mode": {
    "name": "ipython",
    "version": 3
   },
   "file_extension": ".py",
   "mimetype": "text/x-python",
   "name": "python",
   "nbconvert_exporter": "python",
   "pygments_lexer": "ipython3",
   "version": "3.11.7"
  }
 },
 "nbformat": 4,
 "nbformat_minor": 2
}
