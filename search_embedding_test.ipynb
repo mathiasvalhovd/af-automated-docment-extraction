{
 "cells": [
  {
   "cell_type": "code",
   "execution_count": 1,
   "metadata": {},
   "outputs": [],
   "source": [
    "import os\n",
    "import numpy as np\n",
    "import pandas as pd\n",
    "\n",
    "from openai import OpenAI\n",
    "client = OpenAI(api_key=os.environ.get(\"OPENAI_API_KEY\", \"<your OpenAI API key if not set as env var>\"))"
   ]
  },
  {
   "cell_type": "code",
   "execution_count": 2,
   "metadata": {},
   "outputs": [],
   "source": [
    "def get_embedding(text, model=\"text-embedding-3-small\"):\n",
    "   # Generates embedding for a text\n",
    "   text = text.replace(\"\\n\", \" \")\n",
    "   return client.embeddings.create(input = [text], model=model).data[0].embedding\n",
    "\n",
    "def cosine_similarity(a, b):\n",
    "    return np.dot(a, b) / (np.linalg.norm(a) * np.linalg.norm(b))\n",
    " \n",
    "def get_embeddings(\n",
    "    list_of_text: list[str], model=\"text-embedding-3-small\", **kwargs) -> list[list[float]]:\n",
    "    assert len(list_of_text) <= 2048, \"The batch size should not be larger than 2048.\"\n",
    "\n",
    "    # replace newlines, which can negatively affect performance.\n",
    "    list_of_text = [text.replace(\"\\n\", \" \") for text in list_of_text]\n",
    "\n",
    "    data = client.embeddings.create(input=list_of_text, model=model, **kwargs).data\n",
    "    return [d.embedding for d in data]"
   ]
  },
  {
   "cell_type": "code",
   "execution_count": 3,
   "metadata": {},
   "outputs": [],
   "source": [
    "#df = pd.read_csv(\"words.csv\")\n",
    "#df"
   ]
  },
  {
   "cell_type": "code",
   "execution_count": 4,
   "metadata": {},
   "outputs": [],
   "source": [
    "# Returns embeddings for the words in 'words.csv' and stores them in 'embedding'. Saves this as a new csv file\n",
    "#df['embedding'] = df['text'].apply(get_embedding)\n",
    "#df.to_scv('word_embeddings.csv')"
   ]
  },
  {
   "cell_type": "code",
   "execution_count": 5,
   "metadata": {},
   "outputs": [],
   "source": [
    "#df = pd.read_csv('word_embeddings.csv')\n",
    "#df['embedding'] = df['embedding'].apply(eval).apply(np.array)\n",
    "#df"
   ]
  },
  {
   "cell_type": "code",
   "execution_count": 19,
   "metadata": {},
   "outputs": [],
   "source": [
    "# Load wanted data. Here is a speech\n",
    "df = pd.read_csv(\"fed-speech.csv\")\n",
    "#df.head()"
   ]
  },
  {
   "cell_type": "code",
   "execution_count": 20,
   "metadata": {},
   "outputs": [],
   "source": [
    "# Get the embeddings of the speech. Save to csv to reduce embedding function calls\n",
    "#df['embeddings'] = df['text'].apply(get_embedding)\n",
    "#df.to_csv('fed-speech-embeddings.csv')"
   ]
  },
  {
   "cell_type": "code",
   "execution_count": 18,
   "metadata": {},
   "outputs": [],
   "source": [
    "# Load the csv file\n",
    "#df = pd.read_csv('fed-speech-embeddings')\n",
    "#df['embeddings'] = df['embeddings'].apply(eval).apply(np.array) # What does this do??\n",
    "#df.head()"
   ]
  },
  {
   "cell_type": "code",
   "execution_count": 9,
   "metadata": {},
   "outputs": [],
   "source": [
    "# Search for something in the speech and create an embedding of the search sentence\n",
    "#search_sentence = \"august\"\n",
    "#search_embedded = get_embedding(search_sentence)"
   ]
  },
  {
   "cell_type": "code",
   "execution_count": 10,
   "metadata": {},
   "outputs": [],
   "source": [
    "# Compute similarities between the speech and the search\n",
    "#df['similarities'] = df['embeddings'].apply(lambda x : cosine_similarity(x,search_embedded))\n",
    "#df.head()"
   ]
  },
  {
   "cell_type": "code",
   "execution_count": 11,
   "metadata": {},
   "outputs": [],
   "source": [
    "# Sort by most similar\n",
    "#df = df.sort_values(\"similarities\", ascending=False)\n",
    "#df = df.reset_index(drop=True)\n",
    "#df.head()"
   ]
  },
  {
   "cell_type": "code",
   "execution_count": 12,
   "metadata": {},
   "outputs": [],
   "source": [
    "# Print top three results\n",
    "#for i in [0,1,2]:\n",
    "#    text = df['text'][i]\n",
    "#    print(f'Suggestion {i}: {text}')\n",
    "#    print('\\n')"
   ]
  },
  {
   "cell_type": "code",
   "execution_count": 22,
   "metadata": {},
   "outputs": [],
   "source": [
    "def get_most_similar(text, df, n=3):\n",
    "    search_embedded = get_embedding(text)\n",
    "    df['similarities'] = df['embeddings'].apply(lambda x : cosine_similarity(x,search_embedded))\n",
    "    df = df.sort_values(\"similarities\", ascending=False)\n",
    "    df = df.reset_index(drop=True)\n",
    "    for i in range(n):\n",
    "        print(f'Suggestion {i}: {df[\"text\"][i]}')\n",
    "\n",
    "\n",
    "def get_most_similar_unique(text, df, n=1):\n",
    "    #  Split the input text into unique words\n",
    "    words = set(text.split())\n",
    "    # Iterate over each word and get the most similar embeddings\n",
    "    for word in words:\n",
    "        get_most_similar(word, df, n)\n",
    "        \n",
    "def load_embeddings_data(file):\n",
    "    df = pd.read_csv(file)\n",
    "    df['embeddings'] = df['embeddings'].apply(eval).apply(np.array)\n",
    "    return df"
   ]
  },
  {
   "cell_type": "code",
   "execution_count": 29,
   "metadata": {},
   "outputs": [],
   "source": [
    "search = \"PCE fomc august prices\"\n",
    "df = load_embeddings_data('fed-speech-embeddings.csv')"
   ]
  },
  {
   "cell_type": "code",
   "execution_count": 24,
   "metadata": {},
   "outputs": [
    {
     "name": "stdout",
     "output_type": "stream",
     "text": [
      "Suggestion 0: Over the 12 months ending in September, total PCE prices rose at 6.2%, excluding the volatile food and energy categories, core PCE prices rose at 5.1%\n",
      "Suggestion 1: Today, the FOMC raised our policy interest rate by 75 basis points and we continue to anticipate that ongoing increases will be appropriate\n",
      "Suggestion 2: We at the Fed will do everything we can to achieve our maximum employment and price stability goals\n"
     ]
    }
   ],
   "source": [
    "get_most_similar(search,df)"
   ]
  },
  {
   "cell_type": "code",
   "execution_count": 30,
   "metadata": {},
   "outputs": [
    {
     "name": "stdout",
     "output_type": "stream",
     "text": [
      "Suggestion 0: Job gains have been robust with employment rising by an average of 289,000 jobs per month over August and September\n",
      "Suggestion 0: Today, the FOMC raised our policy interest rate by 75 basis points and we continue to anticipate that ongoing increases will be appropriate\n",
      "Suggestion 0: Over the 12 months ending in September, total PCE prices rose at 6.2%, excluding the volatile food and energy categories, core PCE prices rose at 5.1%\n",
      "Suggestion 0: Price pressures remained evident across a broad range of goods and services\n"
     ]
    }
   ],
   "source": [
    "get_most_similar_unique(search,df)"
   ]
  },
  {
   "cell_type": "code",
   "execution_count": 28,
   "metadata": {},
   "outputs": [
    {
     "name": "stdout",
     "output_type": "stream",
     "text": [
      "Suggestion 0: At today's meeting, the committee raised the target range for the federal funds rate by 75 basis points, and we are continuing the process of significantly reducing the size of our balance sheet, which plays an important role in firming the stance of monetary policy\n",
      "Suggestion 1: We at the Fed will do everything we can to achieve our maximum employment and price stability goals\n",
      "Suggestion 2: Today, the FOMC raised our policy interest rate by 75 basis points and we continue to anticipate that ongoing increases will be appropriate\n"
     ]
    }
   ],
   "source": [
    "get_most_similar(\"the federal open market comittee\",df,n=3)"
   ]
  }
 ],
 "metadata": {
  "kernelspec": {
   "display_name": "base",
   "language": "python",
   "name": "python3"
  },
  "language_info": {
   "codemirror_mode": {
    "name": "ipython",
    "version": 3
   },
   "file_extension": ".py",
   "mimetype": "text/x-python",
   "name": "python",
   "nbconvert_exporter": "python",
   "pygments_lexer": "ipython3",
   "version": "3.11.7"
  }
 },
 "nbformat": 4,
 "nbformat_minor": 2
}
