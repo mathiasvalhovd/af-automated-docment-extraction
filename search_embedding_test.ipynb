{
 "cells": [
  {
   "cell_type": "code",
   "execution_count": 7,
   "metadata": {},
   "outputs": [],
   "source": [
    "import os\n",
    "import numpy as np\n",
    "import pandas as pd\n",
    "from openai import OpenAI\n",
    "client = OpenAI(api_key=os.environ.get(\"OPENAI_API_KEY\", \"<your OpenAI API key if not set as env var>\"))"
   ]
  },
  {
   "cell_type": "code",
   "execution_count": 8,
   "metadata": {},
   "outputs": [],
   "source": [
    "def get_embedding(text, model=\"text-embedding-3-small\"):\n",
    "   # Generates embedding for a text\n",
    "   text = text.replace(\"\\n\", \" \")\n",
    "   return client.embeddings.create(input = [text], model=model).data[0].embedding\n",
    "\n",
    "def cosine_similarity(a, b):\n",
    "    return np.dot(a, b) / (np.linalg.norm(a) * np.linalg.norm(b))\n",
    " \n",
    "def get_embeddings(\n",
    "    list_of_text: list[str], model=\"text-embedding-3-small\", **kwargs) -> list[list[float]]:\n",
    "    assert len(list_of_text) <= 2048, \"The batch size should not be larger than 2048.\"\n",
    "\n",
    "    # replace newlines, which can negatively affect performance.\n",
    "    list_of_text = [text.replace(\"\\n\", \" \") for text in list_of_text]\n",
    "\n",
    "    data = client.embeddings.create(input=list_of_text, model=model, **kwargs).data\n",
    "    return [d.embedding for d in data]"
   ]
  },
  {
   "cell_type": "code",
   "execution_count": 37,
   "metadata": {},
   "outputs": [],
   "source": [
    "#df = pd.read_csv(\"words.csv\")\n",
    "#df"
   ]
  },
  {
   "cell_type": "code",
   "execution_count": 38,
   "metadata": {},
   "outputs": [],
   "source": [
    "# Returns embeddings for the words in 'words.csv' and stores them in 'embedding'. Saves this as a new csv file\n",
    "#df['embedding'] = df['text'].apply(get_embedding)\n",
    "#df.to_scv('word_embeddings.csv')"
   ]
  },
  {
   "cell_type": "code",
   "execution_count": 39,
   "metadata": {},
   "outputs": [],
   "source": [
    "#df = pd.read_csv('word_embeddings.csv')\n",
    "#df['embedding'] = df['embedding'].apply(eval).apply(np.array)\n",
    "#df"
   ]
  },
  {
   "cell_type": "code",
   "execution_count": 40,
   "metadata": {},
   "outputs": [
    {
     "data": {
      "text/html": [
       "<div>\n",
       "<style scoped>\n",
       "    .dataframe tbody tr th:only-of-type {\n",
       "        vertical-align: middle;\n",
       "    }\n",
       "\n",
       "    .dataframe tbody tr th {\n",
       "        vertical-align: top;\n",
       "    }\n",
       "\n",
       "    .dataframe thead th {\n",
       "        text-align: right;\n",
       "    }\n",
       "</style>\n",
       "<table border=\"1\" class=\"dataframe\">\n",
       "  <thead>\n",
       "    <tr style=\"text-align: right;\">\n",
       "      <th></th>\n",
       "      <th>text</th>\n",
       "    </tr>\n",
       "  </thead>\n",
       "  <tbody>\n",
       "    <tr>\n",
       "      <th>0</th>\n",
       "      <td>Good afternoon</td>\n",
       "    </tr>\n",
       "    <tr>\n",
       "      <th>1</th>\n",
       "      <td>My colleagues and I are strongly committed to ...</td>\n",
       "    </tr>\n",
       "    <tr>\n",
       "      <th>2</th>\n",
       "      <td>We have both the tools that we need and the re...</td>\n",
       "    </tr>\n",
       "    <tr>\n",
       "      <th>3</th>\n",
       "      <td>Price stability is the responsibility of the F...</td>\n",
       "    </tr>\n",
       "    <tr>\n",
       "      <th>4</th>\n",
       "      <td>Without price stability, the economy does not ...</td>\n",
       "    </tr>\n",
       "  </tbody>\n",
       "</table>\n",
       "</div>"
      ],
      "text/plain": [
       "                                                text\n",
       "0                                     Good afternoon\n",
       "1  My colleagues and I are strongly committed to ...\n",
       "2  We have both the tools that we need and the re...\n",
       "3  Price stability is the responsibility of the F...\n",
       "4  Without price stability, the economy does not ..."
      ]
     },
     "execution_count": 40,
     "metadata": {},
     "output_type": "execute_result"
    }
   ],
   "source": [
    "# Load wanted data. Here is a speech\n",
    "df = pd.read_csv(\"fed-speech.csv\")\n",
    "df.head()"
   ]
  },
  {
   "cell_type": "code",
   "execution_count": 41,
   "metadata": {},
   "outputs": [],
   "source": [
    "# Get the embeddings of the speech. Save to csv to reduce embedding function calls\n",
    "#df['embeddings'] = df['text'].apply(get_embedding)\n",
    "#df.to_csv('fed-speech-embeddings')"
   ]
  },
  {
   "cell_type": "code",
   "execution_count": 89,
   "metadata": {},
   "outputs": [
    {
     "data": {
      "text/html": [
       "<div>\n",
       "<style scoped>\n",
       "    .dataframe tbody tr th:only-of-type {\n",
       "        vertical-align: middle;\n",
       "    }\n",
       "\n",
       "    .dataframe tbody tr th {\n",
       "        vertical-align: top;\n",
       "    }\n",
       "\n",
       "    .dataframe thead th {\n",
       "        text-align: right;\n",
       "    }\n",
       "</style>\n",
       "<table border=\"1\" class=\"dataframe\">\n",
       "  <thead>\n",
       "    <tr style=\"text-align: right;\">\n",
       "      <th></th>\n",
       "      <th>Unnamed: 0</th>\n",
       "      <th>text</th>\n",
       "      <th>embeddings</th>\n",
       "    </tr>\n",
       "  </thead>\n",
       "  <tbody>\n",
       "    <tr>\n",
       "      <th>0</th>\n",
       "      <td>0</td>\n",
       "      <td>Good afternoon</td>\n",
       "      <td>[0.03404167294502258, -0.030998127534985542, -...</td>\n",
       "    </tr>\n",
       "    <tr>\n",
       "      <th>1</th>\n",
       "      <td>1</td>\n",
       "      <td>My colleagues and I are strongly committed to ...</td>\n",
       "      <td>[0.011237340047955513, 0.014179651625454426, 0...</td>\n",
       "    </tr>\n",
       "    <tr>\n",
       "      <th>2</th>\n",
       "      <td>2</td>\n",
       "      <td>We have both the tools that we need and the re...</td>\n",
       "      <td>[0.010302674025297165, 0.01715744100511074, 0....</td>\n",
       "    </tr>\n",
       "    <tr>\n",
       "      <th>3</th>\n",
       "      <td>3</td>\n",
       "      <td>Price stability is the responsibility of the F...</td>\n",
       "      <td>[-0.013447479344904423, -0.006005288101732731,...</td>\n",
       "    </tr>\n",
       "    <tr>\n",
       "      <th>4</th>\n",
       "      <td>4</td>\n",
       "      <td>Without price stability, the economy does not ...</td>\n",
       "      <td>[-0.01848752796649933, 0.005304287187755108, 0...</td>\n",
       "    </tr>\n",
       "  </tbody>\n",
       "</table>\n",
       "</div>"
      ],
      "text/plain": [
       "   Unnamed: 0                                               text  \\\n",
       "0           0                                     Good afternoon   \n",
       "1           1  My colleagues and I are strongly committed to ...   \n",
       "2           2  We have both the tools that we need and the re...   \n",
       "3           3  Price stability is the responsibility of the F...   \n",
       "4           4  Without price stability, the economy does not ...   \n",
       "\n",
       "                                          embeddings  \n",
       "0  [0.03404167294502258, -0.030998127534985542, -...  \n",
       "1  [0.011237340047955513, 0.014179651625454426, 0...  \n",
       "2  [0.010302674025297165, 0.01715744100511074, 0....  \n",
       "3  [-0.013447479344904423, -0.006005288101732731,...  \n",
       "4  [-0.01848752796649933, 0.005304287187755108, 0...  "
      ]
     },
     "execution_count": 89,
     "metadata": {},
     "output_type": "execute_result"
    }
   ],
   "source": [
    "# Load the csv file\n",
    "df = pd.read_csv('fed-speech-embeddings')\n",
    "df['embeddings'] = df['embeddings'].apply(eval).apply(np.array) # What does this do??\n",
    "df.head()"
   ]
  },
  {
   "cell_type": "code",
   "execution_count": 94,
   "metadata": {},
   "outputs": [],
   "source": [
    "# Search for something in the speech and create an embedding of the search sentence\n",
    "search_sentence = \"august\"\n",
    "search_embedded = get_embedding(search_sentence)"
   ]
  },
  {
   "cell_type": "code",
   "execution_count": 95,
   "metadata": {},
   "outputs": [
    {
     "data": {
      "text/html": [
       "<div>\n",
       "<style scoped>\n",
       "    .dataframe tbody tr th:only-of-type {\n",
       "        vertical-align: middle;\n",
       "    }\n",
       "\n",
       "    .dataframe tbody tr th {\n",
       "        vertical-align: top;\n",
       "    }\n",
       "\n",
       "    .dataframe thead th {\n",
       "        text-align: right;\n",
       "    }\n",
       "</style>\n",
       "<table border=\"1\" class=\"dataframe\">\n",
       "  <thead>\n",
       "    <tr style=\"text-align: right;\">\n",
       "      <th></th>\n",
       "      <th>Unnamed: 0</th>\n",
       "      <th>text</th>\n",
       "      <th>embeddings</th>\n",
       "      <th>similarities</th>\n",
       "    </tr>\n",
       "  </thead>\n",
       "  <tbody>\n",
       "    <tr>\n",
       "      <th>0</th>\n",
       "      <td>6</td>\n",
       "      <td>Today, the FOMC raised our policy interest rat...</td>\n",
       "      <td>[-0.005314371082931757, -0.00754205510020256, ...</td>\n",
       "      <td>0.109952</td>\n",
       "    </tr>\n",
       "    <tr>\n",
       "      <th>1</th>\n",
       "      <td>33</td>\n",
       "      <td>At today's meeting, the committee raised the t...</td>\n",
       "      <td>[0.007675030268728733, 0.017215684056282043, 0...</td>\n",
       "      <td>0.067248</td>\n",
       "    </tr>\n",
       "    <tr>\n",
       "      <th>2</th>\n",
       "      <td>52</td>\n",
       "      <td>We at the Fed will do everything we can to ach...</td>\n",
       "      <td>[-0.0073754191398620605, -0.006112131755799055...</td>\n",
       "      <td>0.115736</td>\n",
       "    </tr>\n",
       "    <tr>\n",
       "      <th>3</th>\n",
       "      <td>34</td>\n",
       "      <td>With today's action, we've raised interest rat...</td>\n",
       "      <td>[-0.007713939994573593, 0.012854378670454025, ...</td>\n",
       "      <td>0.143139</td>\n",
       "    </tr>\n",
       "    <tr>\n",
       "      <th>4</th>\n",
       "      <td>35</td>\n",
       "      <td>We anticipate that ongoing increases in the ta...</td>\n",
       "      <td>[0.020980069413781166, 0.02223769761621952, 0....</td>\n",
       "      <td>0.123641</td>\n",
       "    </tr>\n",
       "  </tbody>\n",
       "</table>\n",
       "</div>"
      ],
      "text/plain": [
       "   Unnamed: 0                                               text  \\\n",
       "0           6  Today, the FOMC raised our policy interest rat...   \n",
       "1          33  At today's meeting, the committee raised the t...   \n",
       "2          52  We at the Fed will do everything we can to ach...   \n",
       "3          34  With today's action, we've raised interest rat...   \n",
       "4          35  We anticipate that ongoing increases in the ta...   \n",
       "\n",
       "                                          embeddings  similarities  \n",
       "0  [-0.005314371082931757, -0.00754205510020256, ...      0.109952  \n",
       "1  [0.007675030268728733, 0.017215684056282043, 0...      0.067248  \n",
       "2  [-0.0073754191398620605, -0.006112131755799055...      0.115736  \n",
       "3  [-0.007713939994573593, 0.012854378670454025, ...      0.143139  \n",
       "4  [0.020980069413781166, 0.02223769761621952, 0....      0.123641  "
      ]
     },
     "execution_count": 95,
     "metadata": {},
     "output_type": "execute_result"
    }
   ],
   "source": [
    "# Compute similarities between the speech and the search\n",
    "df['similarities'] = df['embeddings'].apply(lambda x : cosine_similarity(x,search_embedded))\n",
    "df.head()"
   ]
  },
  {
   "cell_type": "code",
   "execution_count": 96,
   "metadata": {},
   "outputs": [
    {
     "data": {
      "text/html": [
       "<div>\n",
       "<style scoped>\n",
       "    .dataframe tbody tr th:only-of-type {\n",
       "        vertical-align: middle;\n",
       "    }\n",
       "\n",
       "    .dataframe tbody tr th {\n",
       "        vertical-align: top;\n",
       "    }\n",
       "\n",
       "    .dataframe thead th {\n",
       "        text-align: right;\n",
       "    }\n",
       "</style>\n",
       "<table border=\"1\" class=\"dataframe\">\n",
       "  <thead>\n",
       "    <tr style=\"text-align: right;\">\n",
       "      <th></th>\n",
       "      <th>Unnamed: 0</th>\n",
       "      <th>text</th>\n",
       "      <th>embeddings</th>\n",
       "      <th>similarities</th>\n",
       "    </tr>\n",
       "  </thead>\n",
       "  <tbody>\n",
       "    <tr>\n",
       "      <th>0</th>\n",
       "      <td>19</td>\n",
       "      <td>Job gains have been robust with employment ris...</td>\n",
       "      <td>[-0.0012229527346789837, 0.062450945377349854,...</td>\n",
       "      <td>0.346641</td>\n",
       "    </tr>\n",
       "    <tr>\n",
       "      <th>1</th>\n",
       "      <td>0</td>\n",
       "      <td>Good afternoon</td>\n",
       "      <td>[0.03404167294502258, -0.030998127534985542, -...</td>\n",
       "      <td>0.201786</td>\n",
       "    </tr>\n",
       "    <tr>\n",
       "      <th>2</th>\n",
       "      <td>13</td>\n",
       "      <td>Recent indicators point to modest growth of sp...</td>\n",
       "      <td>[0.04072889685630798, 0.04065309837460518, 0.0...</td>\n",
       "      <td>0.180716</td>\n",
       "    </tr>\n",
       "    <tr>\n",
       "      <th>3</th>\n",
       "      <td>23</td>\n",
       "      <td>Over the 12 months ending in September, total ...</td>\n",
       "      <td>[-0.028180072084069252, 0.04317083954811096, 0...</td>\n",
       "      <td>0.177496</td>\n",
       "    </tr>\n",
       "    <tr>\n",
       "      <th>4</th>\n",
       "      <td>24</td>\n",
       "      <td>The recent inflation data again have come in h...</td>\n",
       "      <td>[0.016138914972543716, -0.0019731884822249413,...</td>\n",
       "      <td>0.152362</td>\n",
       "    </tr>\n",
       "  </tbody>\n",
       "</table>\n",
       "</div>"
      ],
      "text/plain": [
       "   Unnamed: 0                                               text  \\\n",
       "0          19  Job gains have been robust with employment ris...   \n",
       "1           0                                     Good afternoon   \n",
       "2          13  Recent indicators point to modest growth of sp...   \n",
       "3          23  Over the 12 months ending in September, total ...   \n",
       "4          24  The recent inflation data again have come in h...   \n",
       "\n",
       "                                          embeddings  similarities  \n",
       "0  [-0.0012229527346789837, 0.062450945377349854,...      0.346641  \n",
       "1  [0.03404167294502258, -0.030998127534985542, -...      0.201786  \n",
       "2  [0.04072889685630798, 0.04065309837460518, 0.0...      0.180716  \n",
       "3  [-0.028180072084069252, 0.04317083954811096, 0...      0.177496  \n",
       "4  [0.016138914972543716, -0.0019731884822249413,...      0.152362  "
      ]
     },
     "execution_count": 96,
     "metadata": {},
     "output_type": "execute_result"
    }
   ],
   "source": [
    "# Sort by most similar\n",
    "df = df.sort_values(\"similarities\", ascending=False)\n",
    "df = df.reset_index(drop=True)\n",
    "df.head()"
   ]
  },
  {
   "cell_type": "code",
   "execution_count": 97,
   "metadata": {},
   "outputs": [
    {
     "name": "stdout",
     "output_type": "stream",
     "text": [
      "Suggestion 0: Job gains have been robust with employment rising by an average of 289,000 jobs per month over August and September\n",
      "\n",
      "\n",
      "Suggestion 1: Good afternoon\n",
      "\n",
      "\n",
      "Suggestion 2: Recent indicators point to modest growth of spending and production this quarter\n",
      "\n",
      "\n"
     ]
    }
   ],
   "source": [
    "# Print top three results\n",
    "for i in [0,1,2]:\n",
    "    text = df['text'][i]\n",
    "    print(f'Suggestion {i}: {text}')\n",
    "    print('\\n')"
   ]
  },
  {
   "cell_type": "code",
   "execution_count": 20,
   "metadata": {},
   "outputs": [],
   "source": [
    "def get_most_similar(text, df, n=3):\n",
    "    search_embedded = get_embedding(text)\n",
    "    df['similarities'] = df['embeddings'].apply(lambda x : cosine_similarity(x,search_embedded))\n",
    "    df = df.sort_values(\"similarities\", ascending=False)\n",
    "    df = df.reset_index(drop=True)\n",
    "    for i in range(n):\n",
    "        print(f'Suggestion {i}: {df[\"text\"][i]}')\n",
    "\n",
    "\n",
    "def get_most_similar_unique(text, df, n=1):\n",
    "    #  Split the input text into unique words\n",
    "    words = set(text.split())\n",
    "    # Iterate over each word and get the most similar embeddings\n",
    "    for word in words:\n",
    "        get_most_similar(word, df, n)\n",
    "        \n",
    "def load_data(file):\n",
    "    df = pd.read_csv(file)\n",
    "    df['embeddings'] = df['embeddings'].apply(eval).apply(np.array)\n",
    "    return df"
   ]
  },
  {
   "cell_type": "code",
   "execution_count": 21,
   "metadata": {},
   "outputs": [],
   "source": [
    "search = \"PCE fomc august prices\"\n",
    "df = load_data('fed-speech-embeddings')"
   ]
  },
  {
   "cell_type": "code",
   "execution_count": 18,
   "metadata": {},
   "outputs": [
    {
     "name": "stdout",
     "output_type": "stream",
     "text": [
      "Suggestion 0: Over the 12 months ending in September, total PCE prices rose at 6.2%, excluding the volatile food and energy categories, core PCE prices rose at 5.1%\n",
      "Suggestion 1: Today, the FOMC raised our policy interest rate by 75 basis points and we continue to anticipate that ongoing increases will be appropriate\n",
      "Suggestion 2: We at the Fed will do everything we can to achieve our maximum employment and price stability goals\n"
     ]
    }
   ],
   "source": [
    "get_most_similar(search,df)"
   ]
  },
  {
   "cell_type": "code",
   "execution_count": 19,
   "metadata": {},
   "outputs": [
    {
     "name": "stdout",
     "output_type": "stream",
     "text": [
      "Suggestion 0: Today, the FOMC raised our policy interest rate by 75 basis points and we continue to anticipate that ongoing increases will be appropriate\n",
      "Suggestion 0: Over the 12 months ending in September, total PCE prices rose at 6.2%, excluding the volatile food and energy categories, core PCE prices rose at 5.1%\n",
      "Suggestion 0: Job gains have been robust with employment rising by an average of 289,000 jobs per month over August and September\n",
      "Suggestion 0: Price pressures remained evident across a broad range of goods and services\n"
     ]
    }
   ],
   "source": [
    "get_most_similar_unique(search,df)"
   ]
  }
 ],
 "metadata": {
  "kernelspec": {
   "display_name": "base",
   "language": "python",
   "name": "python3"
  },
  "language_info": {
   "codemirror_mode": {
    "name": "ipython",
    "version": 3
   },
   "file_extension": ".py",
   "mimetype": "text/x-python",
   "name": "python",
   "nbconvert_exporter": "python",
   "pygments_lexer": "ipython3",
   "version": "3.11.7"
  }
 },
 "nbformat": 4,
 "nbformat_minor": 2
}
