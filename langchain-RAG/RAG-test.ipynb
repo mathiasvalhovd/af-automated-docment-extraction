{
 "cells": [
  {
   "cell_type": "code",
   "execution_count": 53,
   "metadata": {},
   "outputs": [],
   "source": [
    "import getpass\n",
    "import os\n",
    "\n",
    "os.environ[\"OPENAI_API_KEY\"] = getpass.getpass('Enter your OpenAI API key: ')\n",
    "os.environ[\"LANGCHAIN_API_KEY\"] = getpass.getpass(\"Enter your Langchain API key: \")\n",
    "\n",
    "os.environ[\"LANGCHAIN_TRACING_V2\"]= \"true\"\n",
    "os.environ[\"LANGCHAIN_ENDPOINT\"]=\"https://api.smith.langchain.com\"\n",
    "os.environ[\"LANGCHAIN_PROJECT\"]=\"RAG-test\"\n",
    "\n",
    "from langchain_openai import ChatOpenAI, OpenAI\n",
    "\n",
    "llm = ChatOpenAI(model=\"gpt-3.5-turbo-0125\", api_key=os.environ.get(\"OPENAI_API_KEY\"))"
   ]
  },
  {
   "cell_type": "code",
   "execution_count": 56,
   "metadata": {},
   "outputs": [],
   "source": [
    "import bs4\n",
    "from langchain import hub\n",
    "from langchain_chroma import Chroma\n",
    "from langchain_community.document_loaders import PyPDFLoader\n",
    "from langchain_core.output_parsers import StrOutputParser\n",
    "from langchain_core.runnables import RunnablePassthrough\n",
    "from langchain_openai import OpenAIEmbeddings\n",
    "from langchain_text_splitters import RecursiveCharacterTextSplitter\n",
    "from langchain.prompts import ChatPromptTemplate\n",
    "\n"
   ]
  },
  {
   "cell_type": "code",
   "execution_count": 30,
   "metadata": {},
   "outputs": [
    {
     "name": "stdout",
     "output_type": "stream",
     "text": [
      "The relative path to the file is: ..\\..\\..\\..\\OneDrive - AF Gruppen ASA\\Datamateriale-endringer\\CCB NS 8415 Underentreprise, avklarende kontraktsm_te, referat.pades.pdf\n"
     ]
    }
   ],
   "source": [
    "import os\n",
    "\n",
    "# Specify the absolute path to the target file\n",
    "target_file_path = r\"\\Users\\mava08\\OneDrive - AF Gruppen ASA\\Datamateriale-endringer\\CCB NS 8415 Underentreprise, avklarende kontraktsm_te, referat.pades.pdf\"\n",
    "\n",
    "# Get the current working directory\n",
    "current_directory = os.getcwd()\n",
    "\n",
    "# Find the relative path from the current directory to the target file\n",
    "relative_path = os.path.relpath(target_file_path, start=current_directory)\n",
    "\n",
    "print(f\"The relative path to the file is: {relative_path}\")"
   ]
  },
  {
   "cell_type": "code",
   "execution_count": 31,
   "metadata": {},
   "outputs": [
    {
     "name": "stdout",
     "output_type": "stream",
     "text": [
      "page_content='Identifikasjon  Rev:  Parefere : Side  \\nCCB NS 8415 Underentreprise, avklarende kontraktsmøte, referat  07/28.02.2020  1 av 17 \\n \\n \\n \\nMØTEREFERAT  \\n \\nMøte type:            Avklarende kontraktsmøte  NS 8415   \\nMøte nr. : 01/01 \\n \\nMøtedato : 02.10.2023   \\nSted:  Ulvenveien 91 \\n \\nMøteleder:  Ola Randby   \\nReferent: Ola Randby  \\n \\nProsjekt /nr.:  Construction City / 14100   \\n \\n \\nDeltakere:    \\nNavn   \\nFirma / Funksjon   \\nAnm .: \\n \\n Ola Randby  CCB  – Prosjektleder drift fase 2   \\n Petter Tufte  \\n \\nRoger H årklau  \\n CCB – Anleggsleder  plan  2-11 \\n  \\nCCB – Anleggslede r plan U2 -1  \\n Haakon N. Kristiansen  \\n \\nStig Mathisen  \\n \\nHans Petter Berg  \\n CCB – Prosjektingeniør  \\n \\nOBI – Markedssjef  \\n \\nOBI – Prosjektleder   \\n    \\n(X) = Ikke tilstede  \\n \\nReferat til:  \\nDeltagere og stedfortredere.   \\nKopi til:  \\nCCB  \\n \\n \\nAvklaring med f oretak:  \\n \\nFag / leveranse:  \\n Himling og Systemvegg er \\nForetak s \\nnavn/nummer  Oslo B ygginnredning AS 998296323  MVA  \\nTilbuds \\ndokumenter/dato  Tilbud 31.0 8.23  \\n \\n \\n1.   \\nGenerelt  \\n \\n1.1.  Møtet avholdes for gjennomgang av mottatte tilbud for å avklare leveranser, \\npresiseringer og forbehold til prosjektet.  \\n \\nKontrakten inngås med arbeidsfellesskapet  Construction City Bygg AS (CCB) som skal \\neies 2/3 av AF Gruppen Norge AS v/AF Bygg Oslo og 1/3 av Betonmast Oslo AS - \\nheretter kalt CCB  eller TE.' metadata={'source': '..\\\\..\\\\..\\\\..\\\\OneDrive - AF Gruppen ASA\\\\Datamateriale-endringer\\\\CCB NS 8415 Underentreprise, avklarende kontraktsm_te, referat.pades.pdf', 'page': 0}\n"
     ]
    }
   ],
   "source": [
    "loader = PyPDFLoader(relative_path)\n",
    "pages = loader.load_and_split()\n",
    "\n",
    "print(pages[0])\n",
    "\n",
    "text_splitter = RecursiveCharacterTextSplitter(chunk_size=1000, chunk_overlap=200)\n",
    "splits = text_splitter.split_documents(pages)\n",
    "vectorstore = Chroma.from_documents(documents=splits, embedding=OpenAIEmbeddings())\n",
    "\n"
   ]
  },
  {
   "cell_type": "code",
   "execution_count": 68,
   "metadata": {},
   "outputs": [
    {
     "data": {
      "text/plain": [
       "'Etterspørselen om å montere el-kanal gjennom himlingene i bygg F 5-8 etasje er ikke gyldig i henhold til kontraktsdokumentene. Kontrakten spesifiserer at tilpasninger til tekniske produkter, som elektriske brystningskanaler, er inkludert i underentreprenørens enhetspriser. Derfor bør arbeidet med å montere el-kanal gjennom himlingene ikke medføre ekstra kostnader for byggherren. Etterspørselen om vederlagsjustering etter regningsarbeid bør derfor avslås, da arbeidet er inkludert i prisen gitt i kontrakten.'"
      ]
     },
     "execution_count": 68,
     "metadata": {},
     "output_type": "execute_result"
    }
   ],
   "source": [
    "# Retrieve and generate using the relevant snippets of the blog.\n",
    "retriever = vectorstore.as_retriever()\n",
    "\n",
    "def format_docs(docs):\n",
    "    return \"\\n\\n\".join(doc.page_content for doc in docs)\n",
    "# Prompt\n",
    "template = \"\"\"Du er en assistent som skal sjekke om den innkommende etterspørselen/endringen fra et selskap med krav om betaling er gyldig i henhold til relevante kontraktsdokumenter, eller om arbeidet egentlig er inkludert i prising gitt i kontrakten. Begrunn hvorfor/hvorfor ikke den innkommende etterspørselen/endringen er gyldig i henhold til kontraktsdokumentene.:\n",
    "{context}\n",
    "\n",
    "Question: {question}\n",
    "\"\"\"\n",
    "\n",
    "prompt = ChatPromptTemplate.from_template(template)\n",
    "# LLM\n",
    "llm = ChatOpenAI(model_name=\"gpt-3.5-turbo\", temperature=0)\n",
    "\n",
    "\n",
    "\n",
    "rag_chain = (\n",
    "    {\"context\": retriever, \"question\": RunnablePassthrough()}\n",
    "    | prompt\n",
    "    | llm\n",
    "    | StrOutputParser()\n",
    ")\n",
    "\n",
    "\n",
    "rag_chain.invoke(\"\"\"Tittel\n",
    "El.kanal gjennom himling\n",
    "\n",
    "Beskrivelse av forholdet\n",
    "Det skal monteres el-kanal gjennom himlingene\n",
    "\n",
    "Utredning og forslag til løsning\n",
    "Kappet vegglister for el-kanalene i bygg F 5-6-7-8 etg\n",
    "\n",
    "Vederlagsjustering etter\n",
    " Regningsarbeid\n",
    "\n",
    "Kostnadsoversikt\n",
    "Postnr.\tBeskrivelse\tFirma\tEnhet\tMengde\tEnhetspris\tPåslag\tTotalbeløp\t\n",
    "1\tarbeid\tOBI\ttimer\t8\t660\t-\t5 280\t\n",
    "Totalsum alle kostnader\t5 280\n",
    "Totalsum godkjente kostnader\t0\n",
    "Totalsum avslåtte kostnader\t5 280\n",
    "\"\"\")"
   ]
  }
 ],
 "metadata": {
  "kernelspec": {
   "display_name": "base",
   "language": "python",
   "name": "python3"
  },
  "language_info": {
   "codemirror_mode": {
    "name": "ipython",
    "version": 3
   },
   "file_extension": ".py",
   "mimetype": "text/x-python",
   "name": "python",
   "nbconvert_exporter": "python",
   "pygments_lexer": "ipython3",
   "version": "3.12.4"
  }
 },
 "nbformat": 4,
 "nbformat_minor": 2
}
