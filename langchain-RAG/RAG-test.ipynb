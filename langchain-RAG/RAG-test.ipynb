{
 "cells": [
  {
   "cell_type": "code",
   "execution_count": 14,
   "metadata": {},
   "outputs": [],
   "source": [
    "import getpass\n",
    "import os\n",
    "\n",
    "os.environ[\"OPENAI_API_KEY\"] = getpass.getpass(\"Enter your API KEY\")\n",
    "\n",
    "from langchain_openai import ChatOpenAI, OpenAI\n",
    "\n",
    "llm = ChatOpenAI(model=\"gpt-3.5-turbo-0125\", api_key=os.environ.get(\"OPENAI_API_KEY\"))"
   ]
  },
  {
   "cell_type": "code",
   "execution_count": 21,
   "metadata": {},
   "outputs": [],
   "source": [
    "import bs4\n",
    "from langchain import hub\n",
    "from langchain_chroma import Chroma\n",
    "from langchain_community.document_loaders import PyPDFLoader\n",
    "from langchain_core.output_parsers import StrOutputParser\n",
    "from langchain_core.runnables import RunnablePassthrough\n",
    "from langchain_openai import OpenAIEmbeddings\n",
    "from langchain_text_splitters import RecursiveCharacterTextSplitter"
   ]
  },
  {
   "cell_type": "code",
   "execution_count": 30,
   "metadata": {},
   "outputs": [
    {
     "name": "stdout",
     "output_type": "stream",
     "text": [
      "The relative path to the file is: ..\\..\\..\\..\\OneDrive - AF Gruppen ASA\\Datamateriale-endringer\\CCB NS 8415 Underentreprise, avklarende kontraktsm_te, referat.pades.pdf\n"
     ]
    }
   ],
   "source": [
    "import os\n",
    "\n",
    "\n",
    "import os\n",
    "\n",
    "# Specify the absolute path to the target file\n",
    "target_file_path = r\"\\Users\\mava08\\OneDrive - AF Gruppen ASA\\Datamateriale-endringer\\CCB NS 8415 Underentreprise, avklarende kontraktsm_te, referat.pades.pdf\"\n",
    "\n",
    "# Get the current working directory\n",
    "current_directory = os.getcwd()\n",
    "\n",
    "# Find the relative path from the current directory to the target file\n",
    "relative_path = os.path.relpath(target_file_path, start=current_directory)\n",
    "\n",
    "print(f\"The relative path to the file is: {relative_path}\")"
   ]
  },
  {
   "cell_type": "code",
   "execution_count": 31,
   "metadata": {},
   "outputs": [
    {
     "name": "stdout",
     "output_type": "stream",
     "text": [
      "page_content='Identifikasjon  Rev:  Parefere : Side  \\nCCB NS 8415 Underentreprise, avklarende kontraktsmøte, referat  07/28.02.2020  1 av 17 \\n \\n \\n \\nMØTEREFERAT  \\n \\nMøte type:            Avklarende kontraktsmøte  NS 8415   \\nMøte nr. : 01/01 \\n \\nMøtedato : 02.10.2023   \\nSted:  Ulvenveien 91 \\n \\nMøteleder:  Ola Randby   \\nReferent: Ola Randby  \\n \\nProsjekt /nr.:  Construction City / 14100   \\n \\n \\nDeltakere:    \\nNavn   \\nFirma / Funksjon   \\nAnm .: \\n \\n Ola Randby  CCB  – Prosjektleder drift fase 2   \\n Petter Tufte  \\n \\nRoger H årklau  \\n CCB – Anleggsleder  plan  2-11 \\n  \\nCCB – Anleggslede r plan U2 -1  \\n Haakon N. Kristiansen  \\n \\nStig Mathisen  \\n \\nHans Petter Berg  \\n CCB – Prosjektingeniør  \\n \\nOBI – Markedssjef  \\n \\nOBI – Prosjektleder   \\n    \\n(X) = Ikke tilstede  \\n \\nReferat til:  \\nDeltagere og stedfortredere.   \\nKopi til:  \\nCCB  \\n \\n \\nAvklaring med f oretak:  \\n \\nFag / leveranse:  \\n Himling og Systemvegg er \\nForetak s \\nnavn/nummer  Oslo B ygginnredning AS 998296323  MVA  \\nTilbuds \\ndokumenter/dato  Tilbud 31.0 8.23  \\n \\n \\n1.   \\nGenerelt  \\n \\n1.1.  Møtet avholdes for gjennomgang av mottatte tilbud for å avklare leveranser, \\npresiseringer og forbehold til prosjektet.  \\n \\nKontrakten inngås med arbeidsfellesskapet  Construction City Bygg AS (CCB) som skal \\neies 2/3 av AF Gruppen Norge AS v/AF Bygg Oslo og 1/3 av Betonmast Oslo AS - \\nheretter kalt CCB  eller TE.' metadata={'source': '..\\\\..\\\\..\\\\..\\\\OneDrive - AF Gruppen ASA\\\\Datamateriale-endringer\\\\CCB NS 8415 Underentreprise, avklarende kontraktsm_te, referat.pades.pdf', 'page': 0}\n"
     ]
    }
   ],
   "source": [
    "loader = PyPDFLoader(relative_path)\n",
    "pages = loader.load_and_split()\n",
    "\n",
    "print(pages[0])\n",
    "\n",
    "text_splitter = RecursiveCharacterTextSplitter(chunk_size=1000, chunk_overlap=200)\n",
    "splits = text_splitter.split_documents(pages)\n",
    "vectorstore = Chroma.from_documents(documents=splits, embedding=OpenAIEmbeddings())\n",
    "\n"
   ]
  },
  {
   "cell_type": "code",
   "execution_count": null,
   "metadata": {},
   "outputs": [],
   "source": []
  },
  {
   "cell_type": "code",
   "execution_count": 38,
   "metadata": {},
   "outputs": [
    {
     "data": {
      "text/plain": [
       "'Det ble avtalt at alt avfall skal sorteres i henhold til prosjektets avfallsplan og kastes i riktig container. Prosjektet har et mål om en avfallsmengde på 18 kg/m2, og det er viktig at riktige tiltak treffes for å oppnå dette. Det ble også nevnt at det er mulig å organisere en returordning for himlingsplater fra Rockfon, men dette vil ha en kostnad som byggherren må dekke.'"
      ]
     },
     "execution_count": 38,
     "metadata": {},
     "output_type": "execute_result"
    }
   ],
   "source": [
    "# Retrieve and generate using the relevant snippets of the blog.\n",
    "retriever = vectorstore.as_retriever()\n",
    "prompt = hub.pull(\"rlm/rag-prompt\")\n",
    "\n",
    "\n",
    "def format_docs(docs):\n",
    "    return \"\\n\\n\".join(doc.page_content for doc in docs)\n",
    "\n",
    "\n",
    "rag_chain = (\n",
    "    {\"context\": retriever | format_docs, \"question\": RunnablePassthrough()}\n",
    "    | prompt\n",
    "    | llm\n",
    "    | StrOutputParser()\n",
    ")\n",
    "\n",
    "rag_chain.invoke(\"Hva ble avtalt om avfallsmengde i avklarende kontraktsmøte 02.10.2023?\")"
   ]
  }
 ],
 "metadata": {
  "kernelspec": {
   "display_name": "base",
   "language": "python",
   "name": "python3"
  },
  "language_info": {
   "codemirror_mode": {
    "name": "ipython",
    "version": 3
   },
   "file_extension": ".py",
   "mimetype": "text/x-python",
   "name": "python",
   "nbconvert_exporter": "python",
   "pygments_lexer": "ipython3",
   "version": "3.12.4"
  }
 },
 "nbformat": 4,
 "nbformat_minor": 2
}
