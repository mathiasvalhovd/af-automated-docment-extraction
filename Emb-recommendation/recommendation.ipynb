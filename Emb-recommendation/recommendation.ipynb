{
 "cells": [
  {
   "cell_type": "code",
   "execution_count": 1,
   "metadata": {},
   "outputs": [
    {
     "name": "stdout",
     "output_type": "stream",
     "text": [
      "ChatCompletionMessage(content=\"In the realm of code where wizards dwell,\\nThere lies a mystical spell,\\nRecursion, a concept so profound,\\nIn loops and functions, it is found.\\n\\nLike a mirror reflecting its own reflection,\\nRecursion calls itself without rejection,\\nA function that calls upon itself,\\nCreating a loop in a magical spell.\\n\\nThrough layers of recursion, we traverse,\\nLike a journey through a universe,\\nEach call leaving a breadcrumb trail,\\nUntil the base case lifts the veil.\\n\\nLike a Russian nesting doll so grand,\\nRecursive functions in code expand,\\nIn infinite loops or finite grace,\\nRecursion weaves its intricate lace.\\n\\nSo remember, programmer bold and true,\\nRecursion holds a secret view,\\nA loop within a loop, a code's delight,\\nIn the realm of programming, shining bright.\", role='assistant', function_call=None, tool_calls=None)\n"
     ]
    }
   ],
   "source": [
    "from openai import OpenAI\n",
    "client = OpenAI()\n",
    "\n",
    "completion = client.chat.completions.create(\n",
    "  model=\"gpt-3.5-turbo\",\n",
    "  messages=[\n",
    "    {\"role\": \"system\", \"content\": \"You are a poetic assistant, skilled in explaining complex programming concepts with creative flair.\"},\n",
    "    {\"role\": \"user\", \"content\": \"Compose a poem that explains the concept of recursion in programming.\"}\n",
    "  ]\n",
    ")\n",
    "\n",
    "print(completion.choices[0].message)"
   ]
  }
 ],
 "metadata": {
  "kernelspec": {
   "display_name": "Python 3",
   "language": "python",
   "name": "python3"
  },
  "language_info": {
   "codemirror_mode": {
    "name": "ipython",
    "version": 3
   },
   "file_extension": ".py",
   "mimetype": "text/x-python",
   "name": "python",
   "nbconvert_exporter": "python",
   "pygments_lexer": "ipython3",
   "version": "3.12.4"
  }
 },
 "nbformat": 4,
 "nbformat_minor": 2
}
