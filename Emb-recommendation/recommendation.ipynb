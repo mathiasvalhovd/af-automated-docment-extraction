{
 "cells": [
  {
   "cell_type": "code",
   "execution_count": 2,
   "metadata": {},
   "outputs": [
    {
     "name": "stdout",
     "output_type": "stream",
     "text": [
      "ChatCompletionMessage(content=\"In the land of code, where algorithms reign,\\nThere dwells a concept both clever and arcane.\\nRecursion, a technique of elegance and power,\\nUnraveling problems like a blooming flower.\\n\\nA function that calls itself without fear,\\nIterating through loops, year after year.\\nDivide and conquer, it loves to divide,\\nSolving puzzles with grace and stride.\\n\\nLike a mirror reflecting its own image anew,\\nRecursion looks back, finding what's true.\\nBreaking down tasks into smaller bites,\\nIt climbs the tree of recursion's heights.\\n\\nBase cases it seeks, to finally break free,\\nFrom the endless cycle, from infinity.\\nA dance of logic, a rhythm of code,\\nIn the world of recursion, paths are boldly trod.\\n\\nSo remember this lesson, this poetic decree,\\nRecursion's magic, for all to see.\\nIn the realm of programming, where challenges loom,\\nEmbrace the beauty of recursion's bloom.\", role='assistant', function_call=None, tool_calls=None)\n"
     ]
    }
   ],
   "source": [
    "from openai import OpenAI\n",
    "client = OpenAI()\n",
    "\n",
    "completion = client.chat.completions.create(\n",
    "  model=\"gpt-3.5-turbo\",\n",
    "  messages=[\n",
    "    {\"role\": \"system\", \"content\": \"You are a poetic assistant, skilled in explaining complex programming concepts with creative flair.\"},\n",
    "    {\"role\": \"user\", \"content\": \"Compose a poem that explains the concept of recursion in programming.\"}\n",
    "  ]\n",
    ")\n",
    "\n",
    "print(completion.choices[0].message)"
   ]
  },
  {
   "cell_type": "code",
   "execution_count": 4,
   "metadata": {},
   "outputs": [],
   "source": [
    "import openai\n",
    "import os\n",
    "client = OpenAI(api_key=os.environ.get(\"OPENAI_API_KEY\", \"<your OpenAI API key if not set as env var>\"))"
   ]
  },
  {
   "cell_type": "code",
   "execution_count": 25,
   "metadata": {},
   "outputs": [
    {
     "name": "stdout",
     "output_type": "stream",
     "text": [
      "chunk: \n",
      "The future of technology is incredibly exciting, with advancements in artificial intelligence and machine learning leading the way. These technologies have the potential to revolutionize every aspect of our lives, from the way we work to how we interact with the world around us.\n",
      "\n",
      "Artificial intelligence (AI) is rapidly evolving, enabling machines to learn from experience, adjust to new inputs, and perform human-like tasks. With the vast amounts of data being generated every day, AI algorithms are becoming increasingly sophisticated, making it possible to automate a wide range of activities, from driving cars to providing customer service.\n",
      "\n",
      "Machine learning, a subset of AI, involves the development of algorithms that allow computers to learn and make decisions based on data. This technology is at the heart of many AI advancements, providing the foundation for systems that can improve their performance over time without being explicitly programmed.\n",
      "\n",
      "In addition to technology, the beauty and complexity of the na\n",
      "-------------------next chunk-------------------\n",
      "\n",
      "chunk: \n",
      "tural world continue to inspire and amaze us. From the intricate ecosystems of rainforests to the vast expanses of the ocean, nature is a constant reminder of the wonders that surround us.\n",
      "\n",
      "Conservation efforts are crucial in protecting these natural wonders for future generations. By understanding the delicate balance of ecosystems and the impact of human activity, we can work towards a more sustainable future, preserving the planet's biodiversity and natural resources.\n",
      "\n",
      "The exploration of space represents one of humanity's most ambitious endeavors. The vastness of the universe, with its countless stars, planets, and galaxies, offers endless possibilities for discovery. Space exploration not only advances our understanding of the cosmos but also brings into perspective the fragility and uniqueness of our own planet.\n",
      "\n",
      "Renewable energy sources, such as solar and wind power, are key to addressing the global challenge of climate change. By harnessing the power of the sun and wind, we can reduce our reliance on f\n",
      "-------------------next chunk-------------------\n",
      "\n",
      "chunk: \n",
      "ossil fuels, decrease greenhouse gas emissions, and move towards a more sustainable and clean energy future.\n",
      "\n",
      "In conclusion, the intersection of technology, nature, and sustainability holds the key to solving many of the world's most pressing challenges. By embracing innovation and respecting the natural world, we can create a brighter future for all.\n",
      "-------------------next chunk-------------------\n",
      "\n"
     ]
    }
   ],
   "source": [
    "def read_and_chunk_file(file_path, chunk_size=1024):\n",
    "    with open(file_path, 'r', encoding='utf-8') as file:\n",
    "        text = file.read()\n",
    "    return [text[i:i+chunk_size] for i in range(0, len(text), chunk_size)]\n",
    "\n",
    "chunks = read_and_chunk_file('sample3.txt')\n",
    "for chunk in chunks:\n",
    "    print(f\"chunk: \\n{chunk}\")\n",
    "    print(\"-------------------next chunk-------------------\\n\")"
   ]
  },
  {
   "cell_type": "code",
   "execution_count": 16,
   "metadata": {},
   "outputs": [],
   "source": [
    "def embed_texts_with_openai(texts, model=\"text-embedding-3-small\"):\n",
    "    embeddings = []\n",
    "    for text in texts:\n",
    "        embeddings.append(client.embeddings.create(input=text, model=model).data[0].embedding)\n",
    "    return embeddings"
   ]
  },
  {
   "cell_type": "code",
   "execution_count": 7,
   "metadata": {},
   "outputs": [],
   "source": [
    "from sklearn.metrics.pairwise import cosine_similarity\n",
    "import numpy as np\n",
    "\n",
    "def calculate_cosine_similarity(embedding, embeddings):\n",
    "    similarities = cosine_similarity([embedding], embeddings)\n",
    "    return similarities[0]"
   ]
  },
  {
   "cell_type": "code",
   "execution_count": 8,
   "metadata": {},
   "outputs": [],
   "source": [
    "def recommend_text_chunks(file_path, input_query, top_n=5):\n",
    "    chunks = read_and_chunk_file(file_path)\n",
    "    chunk_embeddings = embed_texts_with_openai(chunks)\n",
    "    query_embedding = embed_texts_with_openai([input_query])[0]\n",
    "    \n",
    "    similarities = calculate_cosine_similarity(query_embedding, chunk_embeddings)\n",
    "    most_relevant_indices = np.argsort(similarities)[-top_n:][::-1]\n",
    "    \n",
    "    return [(chunks[i], similarities[i]) for i in most_relevant_indices]"
   ]
  },
  {
   "cell_type": "code",
   "execution_count": 27,
   "metadata": {},
   "outputs": [
    {
     "name": "stdout",
     "output_type": "stream",
     "text": [
      "Chunk: ossil fuels, decrease greenhouse gas emissions, and move towards a more sustainable and clean energy future.\n",
      "\n",
      "In conclusion, the intersection of technology, nature, and sustainability holds the key to solving many of the world's most pressing challenges. By embracing innovation and respecting the natural world, we can create a brighter future for all.\n",
      "Similarity: 0.551931026654206\n",
      "\n",
      "--------------------------------------------------\n",
      "\n",
      "Chunk: tural world continue to inspire and amaze us. From the intricate ecosystems of rainforests to the vast expanses of the ocean, nature is a constant reminder of the wonders that surround us.\n",
      "\n",
      "Conservation efforts are crucial in protecting these natural wonders for future generations. By understanding the delicate balance of ecosystems and the impact of human activity, we can work towards a more sustainable future, preserving the planet's biodiversity and natural resources.\n",
      "\n",
      "The exploration of space represents one of humanity's most ambitious endeavors. The vastness of the universe, with its countless stars, planets, and galaxies, offers endless possibilities for discovery. Space exploration not only advances our understanding of the cosmos but also brings into perspective the fragility and uniqueness of our own planet.\n",
      "\n",
      "Renewable energy sources, such as solar and wind power, are key to addressing the global challenge of climate change. By harnessing the power of the sun and wind, we can reduce our reliance on f\n",
      "Similarity: 0.44065256799021896\n",
      "\n",
      "--------------------------------------------------\n",
      "\n",
      "Chunk: The future of technology is incredibly exciting, with advancements in artificial intelligence and machine learning leading the way. These technologies have the potential to revolutionize every aspect of our lives, from the way we work to how we interact with the world around us.\n",
      "\n",
      "Artificial intelligence (AI) is rapidly evolving, enabling machines to learn from experience, adjust to new inputs, and perform human-like tasks. With the vast amounts of data being generated every day, AI algorithms are becoming increasingly sophisticated, making it possible to automate a wide range of activities, from driving cars to providing customer service.\n",
      "\n",
      "Machine learning, a subset of AI, involves the development of algorithms that allow computers to learn and make decisions based on data. This technology is at the heart of many AI advancements, providing the foundation for systems that can improve their performance over time without being explicitly programmed.\n",
      "\n",
      "In addition to technology, the beauty and complexity of the na\n",
      "Similarity: 0.22625091217410465\n",
      "\n",
      "--------------------------------------------------\n",
      "\n"
     ]
    }
   ],
   "source": [
    "file_path = 'sample3.txt'\n",
    "input_query = \"Sustainablity is the key to the future.\"\n",
    "top_n = 5  # Number of recommendations you want\n",
    "\n",
    "\n",
    "try:\n",
    "    recommendations = recommend_text_chunks(file_path, input_query, top_n)\n",
    "except Exception as e:\n",
    "    print(f\"An error occurred: {e.message}\")\n",
    "\n",
    "for chunk, similarity in recommendations:\n",
    "    print(f\"Chunk: {chunk}\\nSimilarity: {similarity}\\n\")\n",
    "    print(\"--------------------------------------------------\\n\")"
   ]
  }
 ],
 "metadata": {
  "kernelspec": {
   "display_name": "Python 3",
   "language": "python",
   "name": "python3"
  },
  "language_info": {
   "codemirror_mode": {
    "name": "ipython",
    "version": 3
   },
   "file_extension": ".py",
   "mimetype": "text/x-python",
   "name": "python",
   "nbconvert_exporter": "python",
   "pygments_lexer": "ipython3",
   "version": "3.12.4"
  }
 },
 "nbformat": 4,
 "nbformat_minor": 2
}
